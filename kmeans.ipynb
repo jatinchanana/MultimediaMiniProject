{
 "cells": [
  {
   "cell_type": "code",
   "execution_count": 338,
   "metadata": {},
   "outputs": [],
   "source": [
    "import cv2\n",
    "import numpy as np\n",
    "import operator as op\n",
    "import random"
   ]
  },
  {
   "cell_type": "code",
   "execution_count": 364,
   "metadata": {},
   "outputs": [],
   "source": [
    "img=cv2.imread(r\"C:\\Users\\jatin\\OneDrive\\Desktop\\Project1-images\\Project1-images\\t3.jpg\")\n",
    "img1=cv2.imread(r\"C:\\Users\\jatin\\OneDrive\\Desktop\\Project1-images\\Project1-images\\t3.jpg\")"
   ]
  },
  {
   "cell_type": "code",
   "execution_count": 360,
   "metadata": {},
   "outputs": [],
   "source": [
    "def Random(img,k):\n",
    "    p = []\n",
    "    img2 = img.reshape(img.shape[0]*img.shape[1],3)\n",
    "    U_element = np.unique(img2, axis=0)\n",
    "    rand = random.sample(range(0,len(U_element)),k)\n",
    "    for i in range(len(rand)):\n",
    "        p.append(U_element[rand[i]])\n",
    "    return p"
   ]
  },
  {
   "cell_type": "code",
   "execution_count": 365,
   "metadata": {},
   "outputs": [],
   "source": [
    "point  = Random(img,8)"
   ]
  },
  {
   "cell_type": "code",
   "execution_count": 343,
   "metadata": {},
   "outputs": [],
   "source": [
    "def Clusters(point,img):\n",
    "    Box = [[] for i in range(len(point))]\n",
    "    Dict= {}\n",
    "    for i in range(img.shape[0]):\n",
    "        for j in range(img.shape[1]):\n",
    "            ls  = []\n",
    "            for k in range(len(point)):\n",
    "                ls.append(np.linalg.norm(np.asarray(img[i][j])-np.asarray(point[k])))\n",
    "            ind = ls.index(min(ls))\n",
    "            Box[ind].append(img[i][j])\n",
    "            \n",
    "    return Box\n",
    "def FindMean(Cl):\n",
    "    lm = np.sum(Cl,axis = 0)/len(Cl)\n",
    "    return lm"
   ]
  },
  {
   "cell_type": "code",
   "execution_count": 345,
   "metadata": {},
   "outputs": [],
   "source": [
    "def Kmeans(initial):\n",
    "    point = initial\n",
    "    while(True):\n",
    "        Bin = Clusters(point,img)\n",
    "        new = []\n",
    "        dist= []\n",
    "        for j in range(len(Bin)):\n",
    "            new.append(FindMean(Bin[j]))\n",
    "        for k in range(len(Bin)):\n",
    "            dist.append(abs(point[k][0]-new[k][0])+abs(point[k][1]-new[k][1])+abs(point[k][2]-new[k][2]))\n",
    "        maxd = max(dist)\n",
    "        if(maxd<5):\n",
    "            return new\n",
    "        else:\n",
    "            point = new\n",
    "def Quantize(point,img):\n",
    "    for i in range(img.shape[0]):\n",
    "        for j in range(img.shape[1]):\n",
    "            dist=[]\n",
    "            for k in range(len(point)):\n",
    "                dist.append(np.linalg.norm(np.asarray(img[i][j])-np.asarray(point[k])))\n",
    "            ind = dist.index(min(dist))\n",
    "            img[i][j] = point[ind]  \n",
    "    \n",
    "    return img"
   ]
  },
  {
   "cell_type": "code",
   "execution_count": 366,
   "metadata": {},
   "outputs": [],
   "source": [
    "finalpoint = Kmeans(point)\n",
    "finalimage = Quantize(finalpoint,img1)"
   ]
  },
  {
   "cell_type": "code",
   "execution_count": 367,
   "metadata": {},
   "outputs": [],
   "source": [
    "cv2.imshow(\"Final image\",finalimage)\n",
    "cv2.waitKey(0)\n",
    "cv2.destroyAllWindows()"
   ]
  },
  {
   "cell_type": "code",
   "execution_count": 353,
   "metadata": {},
   "outputs": [
    {
     "name": "stdout",
     "output_type": "stream",
     "text": [
      "[array([97.67821882, 57.57445094, 55.1259319 ]), array([145.25055432, 109.0864745 ,  99.70066519]), array([ 33.6637869 , 104.67314615, 103.61843053]), array([192.1176083 , 205.96524461, 212.17937737]), array([140.51197411, 151.46796117, 153.7592233 ]), array([17.08041061, 13.57869974, 99.46663815]), array([ 28.14642154,  19.59630116, 133.56401838]), array([ 33.65337113,  52.83802389, 154.05567929]), array([156.54536741, 172.49233227, 177.06389776]), array([112.94897046, 128.56222023, 128.75559534]), array([ 63.93853719, 177.04118009, 205.82790412]), array([ 44.44077805,  96.18930184, 163.06981591]), array([115.56590209,  88.45018829,  72.68606642]), array([ 48.86588829, 139.5667403 , 183.82391922]), array([179.4393507 , 194.70888334, 197.44862647]), array([ 86.73721093, 139.48983882, 173.17729502]), array([169.01605691, 182.13882114, 187.98150407]), array([ 76.78328173,  99.31733746, 110.45743034]), array([118.29301356, 172.75703858, 198.27841502]), array([58.74458276, 57.54587367, 65.10926694])]\n"
     ]
    }
   ],
   "source": [
    "print(finalpoint)"
   ]
  },
  {
   "cell_type": "code",
   "execution_count": null,
   "metadata": {},
   "outputs": [],
   "source": []
  }
 ],
 "metadata": {
  "kernelspec": {
   "display_name": "Python 3",
   "language": "python",
   "name": "python3"
  },
  "language_info": {
   "codemirror_mode": {
    "name": "ipython",
    "version": 3
   },
   "file_extension": ".py",
   "mimetype": "text/x-python",
   "name": "python",
   "nbconvert_exporter": "python",
   "pygments_lexer": "ipython3",
   "version": "3.7.1"
  }
 },
 "nbformat": 4,
 "nbformat_minor": 2
}
